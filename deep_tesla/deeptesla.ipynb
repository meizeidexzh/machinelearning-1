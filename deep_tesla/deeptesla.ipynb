{
 "cells": [
  {
   "cell_type": "code",
   "execution_count": 1,
   "metadata": {},
   "outputs": [
    {
     "name": "stdout",
     "output_type": "stream",
     "text": [
      "-1\n"
     ]
    }
   ],
   "source": [
    "#读取视频文件\n",
    "def loadmkv(file):\n",
    "    import cv2\n",
    "    import csv\n",
    "    epochs_path = './epochs/'\n",
    "    cap = cv2.VideoCapture(epochs_path + file +'_front.mkv')\n",
    "    ret = True\n",
    "    frame_list = []\n",
    "    dict = {}\n",
    "    while(ret == True):\n",
    "        ret, frame = cap.read()\n",
    "        if (ret == True):\n",
    "            frame_list.append(frame)\n",
    "            #gray = cv2.cvtColor(frame, cv2.COLOR_BGR2GRAY)\n",
    "            #cv2.imshow('frame',gray)\n",
    "    \n",
    "        if cv2.waitKey(1) & 0xFF == ord('q'):\n",
    "            break\n",
    "    dict['data']=frame_list\n",
    "    cap.release()\n",
    "    cv2.destroyAllWindows()\n",
    "    labels_list = []\n",
    "    with open(epochs_path + file + '_steering.csv', encoding='utf-8') as csvfile:\n",
    "        csv_reader = csv.DictReader(csvfile)\n",
    "        for row in csv_reader:\n",
    "            labels_list.append(row['wheel'])\n",
    "        \n",
    "    dict['labels']=labels_list\n",
    "    return dict\n",
    "\n",
    "for i in range(1,2):\n",
    "    dict = loadmkv('epoch0' + str(i))\n",
    "print(dict['labels'][0])"
   ]
  },
  {
   "cell_type": "code",
   "execution_count": 25,
   "metadata": {},
   "outputs": [
    {
     "name": "stdout",
     "output_type": "stream",
     "text": [
      "dict_keys([b'filenames', b'batch_label', b'data', b'labels'])\n",
      "[ 59  43  50 ..., 140  84  72] 6 b'leptodactylus_pentadactylus_s_000004.png' 116\n",
      "[154 126 105 ..., 139 142 144] 9 b'camion_s_000148.png' 114\n"
     ]
    }
   ],
   "source": [
    "def unpickle(file):\n",
    "    import pickle\n",
    "    with open(file, 'rb') as fo:\n",
    "        dict = pickle.load(fo, encoding='bytes')\n",
    "    return dict\n",
    "\n",
    "dict = unpickle('C:\\\\machinelearning\\\\image-classification\\\\cifar-10-batches-py\\\\data_batch_1')\n",
    "print(dict.keys())\n",
    "print(dict[b'data'][0],dict[b'labels'][0],dict[b'filenames'][0],dict[b'batch_label'][0])\n",
    "print(dict[b'data'][1],dict[b'labels'][1],dict[b'filenames'][1],dict[b'batch_label'][1])"
   ]
  }
 ],
 "metadata": {
  "kernelspec": {
   "display_name": "Python 3",
   "language": "python",
   "name": "python3"
  },
  "language_info": {
   "codemirror_mode": {
    "name": "ipython",
    "version": 3
   },
   "file_extension": ".py",
   "mimetype": "text/x-python",
   "name": "python",
   "nbconvert_exporter": "python",
   "pygments_lexer": "ipython3",
   "version": "3.5.4"
  }
 },
 "nbformat": 4,
 "nbformat_minor": 2
}
