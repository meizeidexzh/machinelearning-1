{
 "cells": [
  {
   "cell_type": "code",
   "execution_count": 96,
   "metadata": {},
   "outputs": [],
   "source": [
    "from sklearn.decomposition import PCA\n",
    "from PIL import Image\n",
    "\n",
    "def normalize(x):\n",
    "    return (x-x.min())/(x.max()-x.min())\n",
    "\n",
    "#白化处理\n",
    "def imgresize(img):\n",
    "    import tensorflow as tf\n",
    "    return tf.image.per_image_standardization(img)\n",
    "\n",
    "def pca(img):\n",
    "    orig_shape = img.shape\n",
    "    print(orig_shape)\n",
    "    img = img.reshape((2764800,1))\n",
    "    print(img.shape)\n",
    "    pca=PCA(n_components=1)\n",
    "    pca.fit(img)\n",
    "    img = pca.transform(img)\n",
    "    img.reshape(orig_shape)\n",
    "    print(img.shape)\n",
    "    return img\n",
    "\n",
    "#读取视频文件\n",
    "def loadmkv(file,img_num=10):\n",
    "    import cv2\n",
    "    #标注处理\n",
    "    labels_list = []\n",
    "    i = 1\n",
    "    with open(file + '_steering.csv', encoding='utf-8') as csvfile:\n",
    "        csv_reader = csv.DictReader(csvfile)\n",
    "        for row in csv_reader:\n",
    "            labels_list.append(row['wheel'])\n",
    "            if (i>=img_num):\n",
    "                break\n",
    "            i = i + 1\n",
    "    #图像处理        \n",
    "    cap = cv2.VideoCapture(file +'_front.mkv')\n",
    "    ret = True\n",
    "    frame_list = []\n",
    "    i = 1 \n",
    "    while(ret == True):\n",
    "        ret, frame = cap.read()\n",
    "        if (ret == True):\n",
    "            print(frame.shape)\n",
    "            frame = normalize(frame)\n",
    "            print(frame.shape)\n",
    "            frame_list.append(frame)\n",
    "            del frame\n",
    "            if (i>=img_num):\n",
    "                break\n",
    "            i = i + 1\n",
    "            #gray = cv2.cvtColor(frame, cv2.COLOR_BGR2GRAY)\n",
    "            #cv2.imshow('frame',gray)\n",
    "    \n",
    "        if cv2.waitKey(1) & 0xFF == ord('q'):\n",
    "            break\n",
    "    cap.release()\n",
    "    cv2.destroyAllWindows()\n",
    "    \n",
    "    return (frame_list,labels_list)"
   ]
  },
  {
   "cell_type": "code",
   "execution_count": 97,
   "metadata": {},
   "outputs": [
    {
     "name": "stdout",
     "output_type": "stream",
     "text": [
      "(720, 1280, 3)\n",
      "(720, 1280, 3)\n",
      "load file completion\n"
     ]
    }
   ],
   "source": [
    "import pickle\n",
    "from os.path import isfile, isdir\n",
    "import csv\n",
    "\n",
    "epochs_path = '../epochs/'\n",
    "outputf_path = '../output/'\n",
    "for i in range(1,2):\n",
    "    filename = epochs_path + 'epoch0' + str(i)\n",
    "    outputfilename = outputf_path + 'epoch0' + str(i)\n",
    "    if not isfile(outputfilename + '.p'):\n",
    "        features,labels = loadmkv(filename,1)\n",
    "        with open(outputfilename + '.p', 'wb') as outputfile:\n",
    "            pickle.dump((features,labels), outputfile)\n",
    "        del features,labels\n",
    "        \n",
    "print('load file completion')"
   ]
  },
  {
   "cell_type": "code",
   "execution_count": 3,
   "metadata": {
    "collapsed": true
   },
   "outputs": [],
   "source": [
    "def unpickle(file):\n",
    "    import pickle\n",
    "    with open(file, 'rb') as fo:\n",
    "        x,y = pickle.load(fo, encoding='bytes')\n",
    "    return x,y"
   ]
  },
  {
   "cell_type": "code",
   "execution_count": 98,
   "metadata": {},
   "outputs": [
    {
     "name": "stdout",
     "output_type": "stream",
     "text": [
      "1\n"
     ]
    },
    {
     "data": {
      "image/png": "[encoded data removed]",
      "text/plain": [
       "<matplotlib.figure.Figure at 0x1cc8160e4a8>"
      ]
     },
     "metadata": {},
     "output_type": "display_data"
    }
   ],
   "source": [
    "from keras.models import Sequential\n",
    "from keras.layers import Dense, Activation\n",
    "from keras.preprocessing import image\n",
    "import numpy as np\n",
    "\n",
    "x,y = unpickle('../output/epoch01.p')\n",
    "from matplotlib import pyplot as plt\n",
    "%matplotlib inline\n",
    "fig = plt.figure()\n",
    "ax = fig.add_subplot(121)\n",
    "print(len(x))\n",
    "for i in range(len(x)):\n",
    "    ax.imshow(x[i])  "
   ]
  },
  {
   "cell_type": "code",
   "execution_count": null,
   "metadata": {
    "collapsed": true
   },
   "outputs": [],
   "source": []
  }
 ],
 "metadata": {
  "kernelspec": {
   "display_name": "Python 3",
   "language": "python",
   "name": "python3"
  },
  "language_info": {
   "codemirror_mode": {
    "name": "ipython",
    "version": 3
   },
   "file_extension": ".py",
   "mimetype": "text/x-python",
   "name": "python",
   "nbconvert_exporter": "python",
   "pygments_lexer": "ipython3",
   "version": "3.5.4"
  }
 },
 "nbformat": 4,
 "nbformat_minor": 2
}
